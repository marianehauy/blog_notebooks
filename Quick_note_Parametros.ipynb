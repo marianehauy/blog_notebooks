{
 "cells": [
  {
   "cell_type": "markdown",
   "metadata": {},
   "source": [
    "### Como o algoritmo aprende?\n",
    "\n",
    "Se você se lembra da nossa série sobre redes neurais (se não lembra, pode conferir [aqui](https://matheusjorge.github.io/introducao-redes-neurais/)), o algoritmo fazia previsões com base em alguns **pesos** que eram aprendidos durante o treino através do algoritmo de gradiente descendente. Esses pesos também são chamados por um outro nome: **parâmetros** do modelo. Na realidade, \"parâmetro\" é um nome genérico para qualquer compenente desconhecido que deve ser estimado a partir dos dados de treino em qualquer tipo de modelo. Vamos ver um exemplo para tangibilizar um pouco esse conceito:\n",
    "\n",
    "$$f(\\mathbf{X}) = b_0\\ +\\ b_1x_1\\ +\\ b_2x_2\\ +\\ ...\\ +\\ b_nx_n,$$\n",
    "\n",
    "em que $\\mathbf{X} = (x_1, ... , x_n) \\in \\mathbb{R}^n$ são as variáveis de entrada e $(b_0, ..., b_n)$ são nossos parâmetros. Essa equação é relativa ao modelo da Regressão Linear (que também é uma rede muito simples). À princípio, nenhum $b_i$ é conhecido e, para ter uma previsão mais precisa, precisamos estimar quais os valores adequados para cada um. Essa estimação dos parâmetros é que chamamos de **treino**.\n",
    "\n",
    "No caso do *KNN*, nós não temos essa etapa de treino, porque nenhum parâmetro é estimado. Não temos uma equação bem definida que vai me dizer a saída. Por esse motivo, dizemos que o o *KNN* é um algoritmo **não paramétrico**. \n",
    "\n",
    "Certo ... mas se o *K* do *KNN* não é chamado de parâmetro, qual o nome dele? Ele é chamado **hiper-parâmetro**. Os hiper-parâmetros são valores definidos por quem está construindo o modelo e os algoritmos os utilizam para estimar os parâmetros ou realizar a previsão. Um outro exemplo de hiper-parâmetro é a taxa de aprendizagem, que as redes neurais usam para atualizar os valores dos pesos no algoritmo do gradiente descendente."
   ]
  },
  {
   "cell_type": "code",
   "execution_count": null,
   "metadata": {},
   "outputs": [],
   "source": []
  }
 ],
 "metadata": {
  "kernelspec": {
   "display_name": "Python 3",
   "language": "python",
   "name": "python3"
  },
  "language_info": {
   "codemirror_mode": {
    "name": "ipython",
    "version": 3
   },
   "file_extension": ".py",
   "mimetype": "text/x-python",
   "name": "python",
   "nbconvert_exporter": "python",
   "pygments_lexer": "ipython3",
   "version": "3.7.3"
  }
 },
 "nbformat": 4,
 "nbformat_minor": 4
}
